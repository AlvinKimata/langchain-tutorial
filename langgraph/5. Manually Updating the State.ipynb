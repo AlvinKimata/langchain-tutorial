{
 "cells": [
  {
   "cell_type": "markdown",
   "id": "63332b5d-c75a-4b2a-8e57-69c268c69865",
   "metadata": {},
   "source": [
    "In the previous section, we showed how to interrupt a graph so that a human could inspect its actions. This lets the human read the state, but if they want to change they agent's course, they'll need to have write access.\n",
    "\n",
    "Thankfully, LangGraph lets you **manually update state**! Updating the state lets you control the agent's trajectory by modifying its actions (even modifying the past!). This capability is particularly useful when you want to correct the agent's mistakes, explore alternative paths, or guide the agent towards a specific goal."
   ]
  },
  {
   "cell_type": "code",
   "execution_count": 1,
   "id": "4cfc05d4-9af2-4986-9507-814664737762",
   "metadata": {},
   "outputs": [],
   "source": [
    "import os\n",
    "from getpass import getpass\n",
    "from typing import Annotated\n",
    "\n",
    "from langchain_groq import ChatGroq\n",
    "from langchain_community.tools.tavily_search import TavilySearchResults\n",
    "from langchain_core.messages import BaseMessage\n",
    "from typing_extensions import TypedDict\n",
    "\n",
    "from langgraph.checkpoint.sqlite import SqliteSaver\n",
    "from langgraph.graph import StateGraph, START\n",
    "from langgraph.graph.message import add_messages\n",
    "from langgraph.prebuilt import ToolNode, tools_condition"
   ]
  },
  {
   "cell_type": "code",
   "execution_count": 2,
   "id": "dfca5f24-7b92-4bc2-9905-ebbfb838b492",
   "metadata": {},
   "outputs": [
    {
     "name": "stdin",
     "output_type": "stream",
     "text": [
      "Enter TAVILY_API_KEY:  ········\n"
     ]
    }
   ],
   "source": [
    "os.environ['LANGCHAIN_TRACING_V2'] = \"true\"\n",
    "os.environ[\"LANGCHAIN_PROJECT\"] = \"Manually updating the state.\"\n",
    "\n",
    "def _set_env(var: str):\n",
    "  if not os.environ.get(var):\n",
    "    os.environ[var] = getpass(f\"Enter {var}: \")\n",
    "\n",
    "_set_env(\"TAVILY_API_KEY\")"
   ]
  },
  {
   "cell_type": "code",
   "execution_count": 3,
   "id": "80608b39-9a98-4c88-8a25-acef96a8cdc2",
   "metadata": {},
   "outputs": [],
   "source": [
    "class State(TypedDict):\n",
    "    messages : Annotated[list, add_messages]\n",
    "\n",
    "graph_builder = StateGraph(State)\n",
    "\n",
    "tool = TavilySearchResults(max_results=3)\n",
    "tools = [tool]\n",
    "llm = ChatGroq(temperature = 0.4, model = \"Mixtral-8x7b-32768\")\n",
    "\n",
    "llm_with_tools = llm.bind_tools(tools)"
   ]
  },
  {
   "cell_type": "code",
   "execution_count": 4,
   "id": "28ce82a4-d695-4b12-bf23-6a4da84d4c99",
   "metadata": {},
   "outputs": [],
   "source": [
    "def chatbot(state: State):\n",
    "    return {\"messages\" : [llm_with_tools.invoke(state[\"messages\"])]}\n",
    "\n",
    "graph_builder.add_node(\"chatbot\", chatbot)\n",
    "\n",
    "tool_node = ToolNode(tools = [tool])\n",
    "graph_builder.add_node(\"tools\", tool_node)\n",
    "\n",
    "graph_builder.add_conditional_edges(\"chatbot\", tools_condition)\n",
    "graph_builder.add_edge(\"tools\", \"chatbot\")\n",
    "graph_builder.add_edge(START, \"chatbot\")"
   ]
  },
  {
   "cell_type": "code",
   "execution_count": 5,
   "id": "af0ec9a6-8099-4d16-aa0f-aefc0d40035e",
   "metadata": {},
   "outputs": [],
   "source": [
    "memory = SqliteSaver.from_conn_string(\":memory:\") #in-memory db.\n",
    "graph = graph_builder.compile(\n",
    "    checkpointer = memory, \n",
    "    interrupt_before = [\"tools\"]\n",
    ")"
   ]
  },
  {
   "cell_type": "code",
   "execution_count": 7,
   "id": "70a9fa5c-bc57-4dbe-bb31-75f72b92ed84",
   "metadata": {
    "scrolled": true
   },
   "outputs": [
    {
     "name": "stderr",
     "output_type": "stream",
     "text": [
      "Unable to load requested LangChainTracer. To disable this warning, unset the LANGCHAIN_TRACING_V2 environment variables.\n",
      "LangSmithUserError('API key must be provided when using hosted LangSmith API')\n",
      "Unable to load requested LangChainTracer. To disable this warning, unset the LANGCHAIN_TRACING_V2 environment variables.\n",
      "LangSmithUserError('API key must be provided when using hosted LangSmith API')\n",
      "Unable to load requested LangChainTracer. To disable this warning, unset the LANGCHAIN_TRACING_V2 environment variables.\n",
      "LangSmithUserError('API key must be provided when using hosted LangSmith API')\n",
      "Unable to load requested LangChainTracer. To disable this warning, unset the LANGCHAIN_TRACING_V2 environment variables.\n",
      "LangSmithUserError('API key must be provided when using hosted LangSmith API')\n",
      "Unable to load requested LangChainTracer. To disable this warning, unset the LANGCHAIN_TRACING_V2 environment variables.\n",
      "LangSmithUserError('API key must be provided when using hosted LangSmith API')\n",
      "Unable to load requested LangChainTracer. To disable this warning, unset the LANGCHAIN_TRACING_V2 environment variables.\n",
      "LangSmithUserError('API key must be provided when using hosted LangSmith API')\n",
      "Unable to load requested LangChainTracer. To disable this warning, unset the LANGCHAIN_TRACING_V2 environment variables.\n",
      "LangSmithUserError('API key must be provided when using hosted LangSmith API')\n"
     ]
    },
    {
     "name": "stdout",
     "output_type": "stream",
     "text": [
      "Event: {'chatbot': {'messages': [AIMessage(content='', additional_kwargs={'tool_calls': [{'id': 'call_h89h', 'function': {'arguments': '{\"query\":\"LangGraph programming language\"}', 'name': 'tavily_search_results_json'}, 'type': 'function'}]}, response_metadata={'token_usage': {'completion_time': 0.730844803, 'completion_tokens': 457, 'prompt_time': 0.242679272, 'prompt_tokens': 1251, 'queue_time': None, 'total_time': 0.973524075, 'total_tokens': 1708}, 'model_name': 'Mixtral-8x7b-32768', 'system_fingerprint': 'fp_c5f20b5bb1', 'finish_reason': 'tool_calls', 'logprobs': None}, id='run-49713043-7385-49d9-a6b3-cd71247d3d96-0', tool_calls=[{'name': 'tavily_search_results_json', 'args': {'query': 'LangGraph programming language'}, 'id': 'call_h89h', 'type': 'tool_call'}], usage_metadata={'input_tokens': 1251, 'output_tokens': 457, 'total_tokens': 1708})]}}\n"
     ]
    }
   ],
   "source": [
    "user_input = \"I'm learning LangGraph. Could you do some research on it for me?\"\n",
    "\n",
    "config = {\"configurable\" : {\"thread_id\" : \"1\"}}\n",
    "\n",
    "events = graph.stream({\"messages\": [(\"user\", user_input)]}, config)\n",
    "\n",
    "for event in events:\n",
    "    print(f\"Event: {event}\")\n",
    "    if \"messages\" in event:\n",
    "        event[\"messages\"][-1].pretty_print()"
   ]
  },
  {
   "cell_type": "code",
   "execution_count": 8,
   "id": "8a3075a4-35cd-443c-9f56-c0f334d53d58",
   "metadata": {},
   "outputs": [
    {
     "name": "stdout",
     "output_type": "stream",
     "text": [
      "==================================\u001b[1m Ai Message \u001b[0m==================================\n",
      "Tool Calls:\n",
      "  tavily_search_results_json (call_h89h)\n",
      " Call ID: call_h89h\n",
      "  Args:\n",
      "    query: LangGraph programming language\n"
     ]
    }
   ],
   "source": [
    "snapshot = graph.get_state(config)\n",
    "existing_message = snapshot.values[\"messages\"][-1]\n",
    "existing_message.pretty_print()"
   ]
  },
  {
   "cell_type": "markdown",
   "id": "c37f17a9-347e-4834-8340-b3537361d4fc",
   "metadata": {},
   "source": [
    "***\n",
    "So far, all of this is an exact repeat of the previous section. The LLM just requested to use the search engine tool and our graph was interrupted. If we proceed as before, the tool will be called to search the web.\n",
    "\n",
    "But what if the user wants to intercede? What if we think the chat bot doesn't need to use the tool?\n",
    "\n",
    "Let's directly provide the correct response!"
   ]
  },
  {
   "cell_type": "code",
   "execution_count": 9,
   "id": "c9f32cf8-d18f-4495-8a0c-c5cbae9d9144",
   "metadata": {},
   "outputs": [
    {
     "name": "stderr",
     "output_type": "stream",
     "text": [
      "Unable to load requested LangChainTracer. To disable this warning, unset the LANGCHAIN_TRACING_V2 environment variables.\n",
      "LangSmithUserError('API key must be provided when using hosted LangSmith API')\n",
      "Unable to load requested LangChainTracer. To disable this warning, unset the LANGCHAIN_TRACING_V2 environment variables.\n",
      "LangSmithUserError('API key must be provided when using hosted LangSmith API')\n",
      "Unable to load requested LangChainTracer. To disable this warning, unset the LANGCHAIN_TRACING_V2 environment variables.\n",
      "LangSmithUserError('API key must be provided when using hosted LangSmith API')\n"
     ]
    },
    {
     "name": "stdout",
     "output_type": "stream",
     "text": [
      "==================================\u001b[1m Ai Message \u001b[0m==================================\n",
      "\n",
      "LangGraph is a library for building stateful, multi-actor applications with LLMs.\n",
      "\n",
      "\n",
      "Last 2 messages;\n",
      "[ToolMessage(content='LangGraph is a library for building stateful, multi-actor applications with LLMs.', id='3a9e99bb-8abc-4434-a2e1-cd43ed4f8a73', tool_call_id='call_h89h'), AIMessage(content='LangGraph is a library for building stateful, multi-actor applications with LLMs.', id='e1c7ebbd-6307-40a1-a765-a957ab25aed4')]\n"
     ]
    }
   ],
   "source": [
    "from langchain_core.messages import AIMessage, ToolMessage\n",
    "\n",
    "answer = (\n",
    "    \"LangGraph is a library for building stateful, multi-actor applications with LLMs.\"\n",
    ")\n",
    "\n",
    "new_messages = [\n",
    "    ToolMessage(content = answer, tool_call_id = existing_message.tool_calls[0][\"id\"]),\n",
    "    AIMessage(content = answer)\n",
    "]\n",
    "\n",
    "new_messages[-1].pretty_print()\n",
    "\n",
    "graph.update_state(\n",
    "    config, \n",
    "    {\"messages\": new_messages}\n",
    ")\n",
    "\n",
    "print(\"\\n\\nLast 2 messages;\")\n",
    "print(graph.get_state(config).values[\"messages\"][-2:])"
   ]
  },
  {
   "cell_type": "markdown",
   "id": "65f007de-bcc8-4a9e-8444-c69c291310f3",
   "metadata": {},
   "source": [
    "***\n",
    "We annotated `messages` with the pre-built `add_messages` function. This instructs the graph to always append values to the existing list, rather than overwriting the list directly. The same logic is applied here, so the messages we passed to `update_state` were appended in the same way!\n",
    "\n",
    "The `update_state` function operates as if it were one of the nodes in your graph! By default, the update operation uses the node that was last executed, but you can manually specify it below. Let's add an update and tell the graph to treat it as if it came from the \"chatbot\"."
   ]
  },
  {
   "cell_type": "code",
   "execution_count": 10,
   "id": "bf486cc3-457a-4ed5-90a0-e0f50b21f6fb",
   "metadata": {},
   "outputs": [
    {
     "name": "stderr",
     "output_type": "stream",
     "text": [
      "Unable to load requested LangChainTracer. To disable this warning, unset the LANGCHAIN_TRACING_V2 environment variables.\n",
      "LangSmithUserError('API key must be provided when using hosted LangSmith API')\n",
      "Unable to load requested LangChainTracer. To disable this warning, unset the LANGCHAIN_TRACING_V2 environment variables.\n",
      "LangSmithUserError('API key must be provided when using hosted LangSmith API')\n",
      "Unable to load requested LangChainTracer. To disable this warning, unset the LANGCHAIN_TRACING_V2 environment variables.\n",
      "LangSmithUserError('API key must be provided when using hosted LangSmith API')\n"
     ]
    },
    {
     "data": {
      "text/plain": [
       "{'configurable': {'thread_id': '1',\n",
       "  'thread_ts': '1ef42ad3-63e7-6fcf-8005-bdb3bb188432'}}"
      ]
     },
     "execution_count": 10,
     "metadata": {},
     "output_type": "execute_result"
    }
   ],
   "source": [
    "graph.update_state(\n",
    "    config,\n",
    "    {\"messages\": [AIMessage(content=\"I'm an AI expert!\")]},\n",
    "    # Which node for this function to act as. It will automatically continue\n",
    "    # processing as if this node just ran.\n",
    "    as_node=\"chatbot\",\n",
    ")"
   ]
  },
  {
   "cell_type": "code",
   "execution_count": 11,
   "id": "cf0d165c-b3a9-48e0-a4c1-dbb92761beb8",
   "metadata": {},
   "outputs": [
    {
     "data": {
      "image/jpeg": "[encoded data removed]",
      "text/plain": [
       "<IPython.core.display.Image object>"
      ]
     },
     "metadata": {},
     "output_type": "display_data"
    }
   ],
   "source": [
    "from IPython.display import Image, display\n",
    "\n",
    "try:\n",
    "    display(Image(graph.get_graph().draw_mermaid_png()))\n",
    "except Exception:\n",
    "    # This requires some extra dependencies and is optional\n",
    "    pass"
   ]
  },
  {
   "cell_type": "code",
   "execution_count": 12,
   "id": "847d05ae-1488-4e8a-9a34-0f791042a309",
   "metadata": {},
   "outputs": [
    {
     "name": "stdout",
     "output_type": "stream",
     "text": [
      "[ToolMessage(content='LangGraph is a library for building stateful, multi-actor applications with LLMs.', id='3a9e99bb-8abc-4434-a2e1-cd43ed4f8a73', tool_call_id='call_h89h'), AIMessage(content='LangGraph is a library for building stateful, multi-actor applications with LLMs.', id='e1c7ebbd-6307-40a1-a765-a957ab25aed4'), AIMessage(content=\"I'm an AI expert!\", id='a8ca244f-2002-42a2-b6fe-4f3e4b7f0786')]\n",
      "()\n"
     ]
    }
   ],
   "source": [
    "snapshot = graph.get_state(config)\n",
    "print(snapshot.values[\"messages\"][-3:])\n",
    "print(snapshot.next)"
   ]
  },
  {
   "cell_type": "markdown",
   "id": "f3e31ac7-d746-4d14-812b-e4dc3db1e0f1",
   "metadata": {},
   "source": [
    "***\n",
    "### What if you want to overwrite existing messages?\n",
    "\n",
    "The `add_messages` function we used to annotate our graph's State above controls how updates are made to the messages key. This function looks at any message IDs in the new messages list. If the ID matches a message in the existing state, `add_messages` overwrites the existing message with the new content.\n",
    "\n",
    "As an example, let's update the tool invocation to make sure we get good results from our search engine! First, start a new thread:"
   ]
  },
  {
   "cell_type": "code",
   "execution_count": 13,
   "id": "27ca156e-086f-43f9-87b5-95f2544ff325",
   "metadata": {},
   "outputs": [
    {
     "name": "stderr",
     "output_type": "stream",
     "text": [
      "Unable to load requested LangChainTracer. To disable this warning, unset the LANGCHAIN_TRACING_V2 environment variables.\n",
      "LangSmithUserError('API key must be provided when using hosted LangSmith API')\n",
      "Unable to load requested LangChainTracer. To disable this warning, unset the LANGCHAIN_TRACING_V2 environment variables.\n",
      "LangSmithUserError('API key must be provided when using hosted LangSmith API')\n",
      "Unable to load requested LangChainTracer. To disable this warning, unset the LANGCHAIN_TRACING_V2 environment variables.\n",
      "LangSmithUserError('API key must be provided when using hosted LangSmith API')\n",
      "Unable to load requested LangChainTracer. To disable this warning, unset the LANGCHAIN_TRACING_V2 environment variables.\n",
      "LangSmithUserError('API key must be provided when using hosted LangSmith API')\n"
     ]
    },
    {
     "name": "stdout",
     "output_type": "stream",
     "text": [
      "================================\u001b[1m Human Message \u001b[0m=================================\n",
      "\n",
      "I'm learning LangGraph. Could you do some research on it for me?\n"
     ]
    },
    {
     "name": "stderr",
     "output_type": "stream",
     "text": [
      "Unable to load requested LangChainTracer. To disable this warning, unset the LANGCHAIN_TRACING_V2 environment variables.\n",
      "LangSmithUserError('API key must be provided when using hosted LangSmith API')\n",
      "Unable to load requested LangChainTracer. To disable this warning, unset the LANGCHAIN_TRACING_V2 environment variables.\n",
      "LangSmithUserError('API key must be provided when using hosted LangSmith API')\n",
      "Unable to load requested LangChainTracer. To disable this warning, unset the LANGCHAIN_TRACING_V2 environment variables.\n",
      "LangSmithUserError('API key must be provided when using hosted LangSmith API')\n"
     ]
    },
    {
     "name": "stdout",
     "output_type": "stream",
     "text": [
      "==================================\u001b[1m Ai Message \u001b[0m==================================\n",
      "Tool Calls:\n",
      "  tavily_search_results_json (call_pd7n)\n",
      " Call ID: call_pd7n\n",
      "  Args:\n",
      "    query: LangGraph\n"
     ]
    }
   ],
   "source": [
    "user_input = \"I'm learning LangGraph. Could you do some research on it for me?\"\n",
    "config = {\"configurable\": {\"thread_id\": \"2\"}}  # we'll use thread_id = 2 here\n",
    "events = graph.stream(\n",
    "    {\"messages\": [(\"user\", user_input)]}, config, stream_mode=\"values\"\n",
    ")\n",
    "for event in events:\n",
    "    if \"messages\" in event:\n",
    "        event[\"messages\"][-1].pretty_print()"
   ]
  },
  {
   "cell_type": "markdown",
   "id": "957d9d0f-47d7-40e7-9047-f099021f7e9a",
   "metadata": {},
   "source": [
    "***\n",
    "Next, let's update the tool invocation for our agent. Maybe we want to search for human-in-the-loop workflows in particular.\n",
    "***"
   ]
  },
  {
   "cell_type": "code",
   "execution_count": 14,
   "id": "6409c45b-d91c-488b-a6b9-a7ac83e19cb3",
   "metadata": {},
   "outputs": [
    {
     "name": "stderr",
     "output_type": "stream",
     "text": [
      "Unable to load requested LangChainTracer. To disable this warning, unset the LANGCHAIN_TRACING_V2 environment variables.\n",
      "LangSmithUserError('API key must be provided when using hosted LangSmith API')\n",
      "Unable to load requested LangChainTracer. To disable this warning, unset the LANGCHAIN_TRACING_V2 environment variables.\n",
      "LangSmithUserError('API key must be provided when using hosted LangSmith API')\n",
      "Unable to load requested LangChainTracer. To disable this warning, unset the LANGCHAIN_TRACING_V2 environment variables.\n",
      "LangSmithUserError('API key must be provided when using hosted LangSmith API')\n",
      "Unable to load requested LangChainTracer. To disable this warning, unset the LANGCHAIN_TRACING_V2 environment variables.\n",
      "LangSmithUserError('API key must be provided when using hosted LangSmith API')\n"
     ]
    },
    {
     "name": "stdout",
     "output_type": "stream",
     "text": [
      "Original\n",
      "Message ID run-0bd3c6f6-06e6-48df-ad42-4d7e5b33078c-0\n",
      "{'name': 'tavily_search_results_json', 'args': {'query': 'LangGraph'}, 'id': 'call_pd7n', 'type': 'tool_call'}\n",
      "Updated\n",
      "{'name': 'tavily_search_results_json', 'args': {'query': 'LangGraph human-in-the-loop workflow'}, 'id': 'call_pd7n', 'type': 'tool_call'}\n",
      "Message ID run-0bd3c6f6-06e6-48df-ad42-4d7e5b33078c-0\n",
      "\n",
      "\n",
      "Tool calls\n"
     ]
    },
    {
     "data": {
      "text/plain": [
       "[{'name': 'tavily_search_results_json',\n",
       "  'args': {'query': 'LangGraph human-in-the-loop workflow'},\n",
       "  'id': 'call_pd7n',\n",
       "  'type': 'tool_call'}]"
      ]
     },
     "execution_count": 14,
     "metadata": {},
     "output_type": "execute_result"
    }
   ],
   "source": [
    "from langchain_core.messages import AIMessage\n",
    "\n",
    "snapshot = graph.get_state(config)\n",
    "existing_message = snapshot.values[\"messages\"][-1]\n",
    "print(\"Original\")\n",
    "print(\"Message ID\", existing_message.id)\n",
    "print(existing_message.tool_calls[0])\n",
    "new_tool_call = existing_message.tool_calls[0].copy()\n",
    "new_tool_call[\"args\"][\"query\"] = \"LangGraph human-in-the-loop workflow\"\n",
    "new_message = AIMessage(\n",
    "    content=existing_message.content,\n",
    "    tool_calls=[new_tool_call],\n",
    "    # Important! The ID is how LangGraph knows to REPLACE the message in the state rather than APPEND this messages\n",
    "    id=existing_message.id,\n",
    ")\n",
    "\n",
    "print(\"Updated\")\n",
    "print(new_message.tool_calls[0])\n",
    "print(\"Message ID\", new_message.id)\n",
    "graph.update_state(config, {\"messages\": [new_message]})\n",
    "\n",
    "print(\"\\n\\nTool calls\")\n",
    "graph.get_state(config).values[\"messages\"][-1].tool_calls"
   ]
  },
  {
   "cell_type": "markdown",
   "id": "facd3c4f-d9a2-4278-9c3d-ab37cd1f57fe",
   "metadata": {},
   "source": [
    "***\n",
    "\n",
    "Notice that we've modified the AI's tool invocation to search for \"LangGraph human-in-the-loop workflow\" instead of the simple \"LangGraph\"."
   ]
  },
  {
   "cell_type": "code",
   "execution_count": 15,
   "id": "bb6004d8-fad8-4708-ab49-1723e5833b78",
   "metadata": {},
   "outputs": [
    {
     "name": "stderr",
     "output_type": "stream",
     "text": [
      "Unable to load requested LangChainTracer. To disable this warning, unset the LANGCHAIN_TRACING_V2 environment variables.\n",
      "LangSmithUserError('API key must be provided when using hosted LangSmith API')\n",
      "Unable to load requested LangChainTracer. To disable this warning, unset the LANGCHAIN_TRACING_V2 environment variables.\n",
      "LangSmithUserError('API key must be provided when using hosted LangSmith API')\n",
      "Unable to load requested LangChainTracer. To disable this warning, unset the LANGCHAIN_TRACING_V2 environment variables.\n",
      "LangSmithUserError('API key must be provided when using hosted LangSmith API')\n",
      "Unable to load requested LangChainTracer. To disable this warning, unset the LANGCHAIN_TRACING_V2 environment variables.\n",
      "LangSmithUserError('API key must be provided when using hosted LangSmith API')\n",
      "Unable to load requested LangChainTracer. To disable this warning, unset the LANGCHAIN_TRACING_V2 environment variables.\n",
      "LangSmithUserError('API key must be provided when using hosted LangSmith API')\n",
      "Unable to load requested LangChainTracer. To disable this warning, unset the LANGCHAIN_TRACING_V2 environment variables.\n",
      "LangSmithUserError('API key must be provided when using hosted LangSmith API')\n"
     ]
    },
    {
     "name": "stdout",
     "output_type": "stream",
     "text": [
      "=================================\u001b[1m Tool Message \u001b[0m=================================\n",
      "Name: tavily_search_results_json\n",
      "\n",
      "[{\"url\": \"https://m.youtube.com/watch?v=9BPCV5TYPmg\", \"content\": \"In this video, I'll show you how to handle persistence with LangGraph, enabling a unique Human-in-the-Loop workflow. This approach allows a human to grant an LLM (Language Model) permission to ...\"}, {\"url\": \"https://github.com/langchain-ai/langgraph/blob/main/examples/human-in-the-loop.ipynb\", \"content\": \"Build resilient language agents as graphs. Contribute to langchain-ai/langgraph development by creating an account on GitHub.\"}, {\"url\": \"https://blog.langchain.dev/human-in-the-loop-with-opengpts-and-langgraph/\", \"content\": \"To do this we can model the interaction between the actors as happening across multiple discrete steps, when one actor hands off work to another actor, that results in the scheduling of the next step of the computation, and so on, until no more actors hand off work to others, and we\\u2019ve reached the final result.\\n And just as a human team needs more coordination than one person working by themselves, an application with multiple actors needs a coordination layer to\\nMulti-step\\nAs each actor hands off work to another (eg. an LLM prompt asking a search tool for results on a query) we need to make sense of the back-and-forth between multiple actors \\u2013 what order does it happen in, how many times is each actor called, etc. In OpenGPTs we\\u2019ve implemented this mode for Tool Confirmation \\u2013 when this mode is turned on, before any tool is called the application will pause and ask for confirmation, at which point the user can, again\\nWhere to find this\\nYou can go here to demo OpenGPTs and here to fork it.\\n From there the user can choose to\\nAuthorize\\nA 2nd control mode is Authorize, where the user defines ahead of time that they want the application to hand off control to them every time a particular actor is about to be called. Interrupt\\nThe first mode, Interrupt, is the simplest form of control \\u2013 the user is looking at streaming output of the application as it is produced, and manually interrupts it when he sees fit.\"}]\n"
     ]
    },
    {
     "name": "stderr",
     "output_type": "stream",
     "text": [
      "Unable to load requested LangChainTracer. To disable this warning, unset the LANGCHAIN_TRACING_V2 environment variables.\n",
      "LangSmithUserError('API key must be provided when using hosted LangSmith API')\n",
      "Unable to load requested LangChainTracer. To disable this warning, unset the LANGCHAIN_TRACING_V2 environment variables.\n",
      "LangSmithUserError('API key must be provided when using hosted LangSmith API')\n"
     ]
    },
    {
     "name": "stdout",
     "output_type": "stream",
     "text": [
      "==================================\u001b[1m Ai Message \u001b[0m==================================\n",
      "\n",
      "LangGraph is a tool that enables a unique Human-in-the-Loop workflow for handling persistence. It allows a human to grant a Language Model permission to perform actions. You can find examples of this on GitHub (<https://github.com/langchain-ai/langgraph/blob/main/examples/human-in-the-loop.ipynb>) and in a YouTube video (<https://m.youtube.com/watch?v=9BPCV5TYPmg>). Additionally, there is a blog post that goes into detail about how LangGraph can be used in a multi-step workflow with OpenGPTs for tool confirmation and authorization (<https://blog.langchain.dev/human-in-the-loop-with-opengpts-and-langgraph/>).\n"
     ]
    }
   ],
   "source": [
    "events = graph.stream(None, config, stream_mode=\"values\")\n",
    "for event in events:\n",
    "    if \"messages\" in event:\n",
    "        event[\"messages\"][-1].pretty_print()"
   ]
  },
  {
   "cell_type": "code",
   "execution_count": 16,
   "id": "6d03d0e9-a024-4196-bced-d12d9dad4522",
   "metadata": {},
   "outputs": [
    {
     "name": "stderr",
     "output_type": "stream",
     "text": [
      "Unable to load requested LangChainTracer. To disable this warning, unset the LANGCHAIN_TRACING_V2 environment variables.\n",
      "LangSmithUserError('API key must be provided when using hosted LangSmith API')\n",
      "Unable to load requested LangChainTracer. To disable this warning, unset the LANGCHAIN_TRACING_V2 environment variables.\n",
      "LangSmithUserError('API key must be provided when using hosted LangSmith API')\n",
      "Unable to load requested LangChainTracer. To disable this warning, unset the LANGCHAIN_TRACING_V2 environment variables.\n",
      "LangSmithUserError('API key must be provided when using hosted LangSmith API')\n",
      "Unable to load requested LangChainTracer. To disable this warning, unset the LANGCHAIN_TRACING_V2 environment variables.\n",
      "LangSmithUserError('API key must be provided when using hosted LangSmith API')\n"
     ]
    },
    {
     "name": "stdout",
     "output_type": "stream",
     "text": [
      "================================\u001b[1m Human Message \u001b[0m=================================\n",
      "\n",
      "Remember what I'm learning about?\n"
     ]
    },
    {
     "name": "stderr",
     "output_type": "stream",
     "text": [
      "Unable to load requested LangChainTracer. To disable this warning, unset the LANGCHAIN_TRACING_V2 environment variables.\n",
      "LangSmithUserError('API key must be provided when using hosted LangSmith API')\n",
      "Unable to load requested LangChainTracer. To disable this warning, unset the LANGCHAIN_TRACING_V2 environment variables.\n",
      "LangSmithUserError('API key must be provided when using hosted LangSmith API')\n"
     ]
    },
    {
     "name": "stdout",
     "output_type": "stream",
     "text": [
      "==================================\u001b[1m Ai Message \u001b[0m==================================\n",
      "\n",
      "You are learning about LangGraph.\n"
     ]
    }
   ],
   "source": [
    "events = graph.stream(\n",
    "    {\n",
    "        \"messages\": (\n",
    "            \"user\",\n",
    "            \"Remember what I'm learning about?\",\n",
    "        )\n",
    "    },\n",
    "    config,\n",
    "    stream_mode=\"values\",\n",
    ")\n",
    "for event in events:\n",
    "    if \"messages\" in event:\n",
    "        event[\"messages\"][-1].pretty_print()"
   ]
  },
  {
   "cell_type": "markdown",
   "id": "0c0f8aa5-cc4c-44d3-97e2-15e00dcab1e2",
   "metadata": {},
   "source": [
    "***\n",
    "You've used `interrupt_before` and `update_state` to manually modify the state as a part of a human-in-the-loop workflow. Interruptions and state modifications let you control how the agent behaves. \n",
    "\n",
    "Combined with persistent checkpointing, it means you can `pause` an action and `resume` at any point. Your user doesn't have to be available when the graph interrupts!"
   ]
  },
  {
   "cell_type": "code",
   "execution_count": null,
   "id": "2299793d-26c0-4d36-bb8d-7e6e516466da",
   "metadata": {},
   "outputs": [],
   "source": []
  }
 ],
 "metadata": {
  "kernelspec": {
   "display_name": "Python 3 (ipykernel)",
   "language": "python",
   "name": "python3"
  },
  "language_info": {
   "codemirror_mode": {
    "name": "ipython",
    "version": 3
   },
   "file_extension": ".py",
   "mimetype": "text/x-python",
   "name": "python",
   "nbconvert_exporter": "python",
   "pygments_lexer": "ipython3",
   "version": "3.9.18"
  }
 },
 "nbformat": 4,
 "nbformat_minor": 5
}
