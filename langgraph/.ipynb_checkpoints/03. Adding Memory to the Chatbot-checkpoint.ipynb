{
 "cells": [
  {
   "cell_type": "markdown",
   "id": "7f281d63-0f0f-437d-8bc6-30185007aaed",
   "metadata": {},
   "source": [
    "\n",
    "## Part 3: Adding Memory to the Chatbot\n",
    "\n",
    "Our chatbot can now use tools to answer user questions, but it doesn't remember the context of previous interactions. This limits its ability to have coherent, multi-turn conversations.\n",
    "\n",
    "LangGraph solves this problem through **persistent checkpointing**. If you provide a `checkpointer` when compiling the graph and a `thread_id` when calling your graph, LangGraph automatically saves the state after each step. When you invoke the graph again using the same `thread_id`, the graph loads its saved state, allowing the chatbot to pick up where it left off.\n",
    "\n",
    "We will see later that **checkpointing** is much more powerful than simple chat memory - _it lets you save and resume complex state at any time for error recovery, human-in-the-loop workflows, time travel interactions, and more_. But before we get too ahead of ourselves, let's add checkpointing to enable multi-turn conversations.\n",
    "\n",
    "To get started, create a `SqliteSaver` checkpointer."
   ]
  },
  {
   "cell_type": "code",
   "execution_count": 12,
   "id": "da8c58d8-bf4b-479e-a2a3-73ced3b10645",
   "metadata": {},
   "outputs": [],
   "source": [
    "import os\n",
    "from getpass import getpass\n",
    "\n",
    "from typing import Annotated\n",
    "from typing_extensions import TypedDict\n",
    "from langgraph.graph import StateGraph, START, END\n",
    "from langgraph.graph.message import add_messages\n",
    "from langgraph.checkpoint.sqlite import SqliteSaver\n",
    "from langchain_community.tools.tavily_search import TavilySearchResults\n",
    "from langgraph.prebuilt import ToolNode, tools_condition\n",
    "\n",
    "from langchain_groq import ChatGroq"
   ]
  },
  {
   "cell_type": "code",
   "execution_count": 3,
   "id": "7d25b087-8c82-459a-a70d-9db964a9b1a1",
   "metadata": {},
   "outputs": [],
   "source": [
    "memory = SqliteSaver.from_conn_string(\":memory:\")"
   ]
  },
  {
   "cell_type": "markdown",
   "id": "204cecf5-9559-469b-9d41-09b3fd9d25a4",
   "metadata": {},
   "source": [
    "Notice that we've specified `:memory` as the Sqlite DB path. This is convenient for our tutorial **(it saves it all in-memory)**. In a production application, you would likely change this to connect to your own DB and/or use one of the other checkpointer classes.\n",
    "\n",
    "Next define the graph. Now that you've already built your own `BasicToolNode`, we'll replace it with LangGraph's prebuilt `ToolNode` and `tools_condition`, since these do some nice things like parallel API execution. Apart from that, the following is all copied from Part 2."
   ]
  },
  {
   "cell_type": "code",
   "execution_count": 8,
   "id": "ba89678f-b476-4b86-b1ab-c5406a97cfec",
   "metadata": {},
   "outputs": [],
   "source": [
    "os.environ['LANGCHAIN_TRACING_V2'] = \"true\"\n",
    "os.environ[\"LANGCHAIN_PROJECT\"] = \"LangGraph Tutorial\"\n",
    "\n",
    "def _set_env(var: str):\n",
    "  if not os.environ.get(var):\n",
    "    os.environ[var] = getpass(f\"Enter {var}: \")\n",
    "\n",
    "_set_env(\"TAVILY_API_KEY\")\n",
    "_set_env(\"GROQ_API_KEY\")"
   ]
  },
  {
   "cell_type": "code",
   "execution_count": 14,
   "id": "7562c79c-f7de-476a-acd0-6811ec31bf1e",
   "metadata": {},
   "outputs": [],
   "source": [
    "class State(TypedDict):\n",
    "    messages : Annotated[list, add_messages]\n",
    "\n",
    "graph_builder = StateGraph(State)\n",
    "tool = TavilySearchResults(max_results=3)\n",
    "tools = [tool]\n",
    "\n",
    "llm = ChatGroq(temperature = 0.5, model = \"Mixtral-8x7b-32768\")\n",
    "\n",
    "llm_with_tools = llm.bind_tools(tools)"
   ]
  },
  {
   "cell_type": "code",
   "execution_count": 15,
   "id": "6d65c2a1-4517-44e0-9ac4-cee5e3defa75",
   "metadata": {},
   "outputs": [],
   "source": [
    "def chatbot(state: State):\n",
    "    return {\"messages\": [llm_with_tools.invoke(state[\"messages\"])]}\n",
    "\n",
    "graph_builder.add_node(\"chatbot\", chatbot)\n",
    "\n",
    "tool_node = ToolNode(tools = [tool])\n",
    "graph_builder.add_node(\"tools\", tool_node)\n",
    "\n",
    "graph_builder.add_conditional_edges(\"chatbot\", tools_condition)\n",
    "\n",
    "#Any time a tool is called, we return the chatbot to decide the next step.\n",
    "graph_builder.add_edge(\"tools\", \"chatbot\")\n",
    "graph_builder.add_edge(START, \"chatbot\")"
   ]
  },
  {
   "cell_type": "code",
   "execution_count": 16,
   "id": "7ac586b3-ba59-4568-8e78-659e202cf372",
   "metadata": {},
   "outputs": [
    {
     "data": {
      "text/plain": [
       "{'chatbot': NodeSpec(runnable=chatbot(recurse=True), metadata=None),\n",
       " 'tools': NodeSpec(runnable=tools(recurse=True, tools_by_name={'tavily_search_results_json': TavilySearchResults(max_results=3)}, handle_tool_errors=True), metadata=None)}"
      ]
     },
     "execution_count": 16,
     "metadata": {},
     "output_type": "execute_result"
    }
   ],
   "source": [
    "graph_builder.nodes"
   ]
  },
  {
   "cell_type": "code",
   "execution_count": 17,
   "id": "0e8be591-059d-40f1-96ef-e4e0db4421fb",
   "metadata": {},
   "outputs": [],
   "source": [
    "graph = graph_builder.compile(checkpointer = memory)"
   ]
  },
  {
   "cell_type": "code",
   "execution_count": 19,
   "id": "998e65a2-63eb-461d-90e6-375202f22229",
   "metadata": {},
   "outputs": [
    {
     "data": {
      "image/jpeg": "[encoded data removed]",
      "text/plain": [
       "<IPython.core.display.Image object>"
      ]
     },
     "metadata": {},
     "output_type": "display_data"
    }
   ],
   "source": [
    "from IPython.display import Image, display\n",
    "\n",
    "try:\n",
    "    display(Image(graph.get_graph().draw_mermaid_png()))\n",
    "except Exception:\n",
    "    pass"
   ]
  },
  {
   "cell_type": "markdown",
   "id": "d10c7042-ac6d-4d1b-90fa-32e242cbfd09",
   "metadata": {},
   "source": [
    "***\n",
    "Now you can interact with your bot! First, pick a thread to use as the key for this conversation."
   ]
  },
  {
   "cell_type": "code",
   "execution_count": 21,
   "id": "c6618f46-b2b2-4faf-b1d7-1989aa7783c6",
   "metadata": {},
   "outputs": [
    {
     "name": "stderr",
     "output_type": "stream",
     "text": [
      "Unable to load requested LangChainTracer. To disable this warning, unset the LANGCHAIN_TRACING_V2 environment variables.\n",
      "LangSmithUserError('API key must be provided when using hosted LangSmith API')\n",
      "Unable to load requested LangChainTracer. To disable this warning, unset the LANGCHAIN_TRACING_V2 environment variables.\n",
      "LangSmithUserError('API key must be provided when using hosted LangSmith API')\n"
     ]
    },
    {
     "name": "stdout",
     "output_type": "stream",
     "text": [
      "================================\u001b[1m Human Message \u001b[0m=================================\n",
      "\n",
      "Hi there! My name is Will.\n"
     ]
    },
    {
     "name": "stderr",
     "output_type": "stream",
     "text": [
      "Unable to load requested LangChainTracer. To disable this warning, unset the LANGCHAIN_TRACING_V2 environment variables.\n",
      "LangSmithUserError('API key must be provided when using hosted LangSmith API')\n",
      "Unable to load requested LangChainTracer. To disable this warning, unset the LANGCHAIN_TRACING_V2 environment variables.\n",
      "LangSmithUserError('API key must be provided when using hosted LangSmith API')\n",
      "Unable to load requested LangChainTracer. To disable this warning, unset the LANGCHAIN_TRACING_V2 environment variables.\n",
      "LangSmithUserError('API key must be provided when using hosted LangSmith API')\n",
      "Unable to load requested LangChainTracer. To disable this warning, unset the LANGCHAIN_TRACING_V2 environment variables.\n",
      "LangSmithUserError('API key must be provided when using hosted LangSmith API')\n",
      "Unable to load requested LangChainTracer. To disable this warning, unset the LANGCHAIN_TRACING_V2 environment variables.\n",
      "LangSmithUserError('API key must be provided when using hosted LangSmith API')\n",
      "Unable to load requested LangChainTracer. To disable this warning, unset the LANGCHAIN_TRACING_V2 environment variables.\n",
      "LangSmithUserError('API key must be provided when using hosted LangSmith API')\n",
      "Unable to load requested LangChainTracer. To disable this warning, unset the LANGCHAIN_TRACING_V2 environment variables.\n",
      "LangSmithUserError('API key must be provided when using hosted LangSmith API')\n"
     ]
    },
    {
     "name": "stdout",
     "output_type": "stream",
     "text": [
      "==================================\u001b[1m Ai Message \u001b[0m==================================\n",
      "Tool Calls:\n",
      "  tavily_search_results_json (call_grqv)\n",
      " Call ID: call_grqv\n",
      "  Args:\n",
      "    query: Who is Will\n"
     ]
    },
    {
     "name": "stderr",
     "output_type": "stream",
     "text": [
      "Unable to load requested LangChainTracer. To disable this warning, unset the LANGCHAIN_TRACING_V2 environment variables.\n",
      "LangSmithUserError('API key must be provided when using hosted LangSmith API')\n",
      "Unable to load requested LangChainTracer. To disable this warning, unset the LANGCHAIN_TRACING_V2 environment variables.\n",
      "LangSmithUserError('API key must be provided when using hosted LangSmith API')\n",
      "Unable to load requested LangChainTracer. To disable this warning, unset the LANGCHAIN_TRACING_V2 environment variables.\n",
      "LangSmithUserError('API key must be provided when using hosted LangSmith API')\n"
     ]
    },
    {
     "name": "stdout",
     "output_type": "stream",
     "text": [
      "=================================\u001b[1m Tool Message \u001b[0m=================================\n",
      "Name: tavily_search_results_json\n",
      "\n",
      "[{\"url\": \"https://www.biography.com/actors/will-smith\", \"content\": \"To meet the team, visit our About Us page: https://www.biography.com/about/a43602329/about-us\\nAcademy Awards\\nJodie Foster\\nEmma Stone\\nMartin Scorsese\\nGreta Gerwig\\nCillian Murphy\\nKate Hudson\\nBrendan Fraser\\nJamie Lee Curtis\\nNicolas Cage\\nMichelle Yeoh\\nThe 2024 Oscar Nominations in Major Categories\\nGet to Know Oscar Nominee His turn as the charismatic boxing great saw Smith put in the performance of his life, training and disciplining himself to extraordinary lengths to do justice to the athleticism \\u2014 and ego \\u2014 of the titular character. Hancock, Seven Pounds, and Men in Black 3\\nSmith then took on the dual role of actor and producer for Hancock (2008), in which he played an alcoholic anti-superhero, and for Seven Pounds (2008), about a man who sets out to change the lives of seven people. Early on, it was reported that Smith had turned down a scholarship to Boston's elite Massachusetts Institute of Technology (MIT), but Smith later dispelled the rumor when he told an interviewer: \\\"My mother, who worked for the School Board of Philadelphia, had a friend who was the admissions officer at MIT. After a hiatus, Smith returned to the big screen in 2012 with Men in Black 3, followed by a turn as a military commander in the critically panned M. Night Shyamalan sci-fi flick After Earth, which co-starred Smith's son Jaden.\"}, {\"url\": \"https://en.wikipedia.org/wiki/Will_Smith\", \"content\": \"In 2006, Time named him one of the 100 most influential people in the world;[158] in 2008, Esquire named him one of the 75 most influential people of the 21st century.[159]\\nMusic\\nHis work as a member of DJ Jazzy Jeff & the Fresh Prince made them the first rap act to win a Grammy Award, as well as the first to win an MTV Video Music Award for Best Rap Video, when the song \\\"Parents Just Don't Understand\\\" won in the inaugural rap categories at both award show ceremonies.[13][160][161] XXL has referred to him as \\\"one of the most important rappers of all time\\\".[162] As of 2013, his debut solo album Big Willie Style (1997) is among the best-selling rap albums of all time.[163]\\nTelevision\\nSmith launched his acting career by starring in the NBC sitcom The Fresh Prince of Bel-Air; the show's success is considered to be a watershed moment for Hip-Hop and Black television,[164][165] with many publications referring to it as one of the \\\"Greatest Sitcoms of All Time\\\".[166][167] Professor Andrew Horton said, \\\"Smith's genre of comedy, popularized on the sitcom Fresh Prince of Bel-Air translated well into commercial box-office appeal. He currently holds the record for the most consecutive $100-million-plus hits at the US box office, with eight.[171] Smith starred as Daryl in the movie Bright (2017), which broke the record at the time for the most-viewed Netflix film ever for its first week,[172] and became the first major Hollywood film to skip theatrical release over streaming platform for simultaneous viewing by more than 100 million people worldwide.[173]\\nFor his role as Agent J in Men in Black 3 (2012), Smith earned the highest-paid movie role of all time, when he reportedly earned $100 million for his role in the film; furthermore his roles in the movies King Richard and Bright are also among the highest-paid roles of all time.[174][175] His film Emancipation (2022) was sold to Apple Studios for $120 million in June 2020, which made it the largest film festival acquisition deal in film history.[176] On December 1, 2008, TV Guide reported that Smith was selected as one of America's top ten most fascinating people of 2008 for a Barbara Walters ABC special that aired on December 4, 2008.[57]\\n2008\\u20132019: Blockbusters and critical disappointments\\nIn 2008, Smith was reported to be developing a film entitled The Last Pharaoh, in which he would be starring as Taharqa.[58] Smith later starred in the superhero movie Hancock,[59] which grossed $227,946,274 in the United States and Canada and had a worldwide total of $624,386,746.[60] On August 19, 2011, it was announced that Smith returned to the studio with producer La Mar Edwards to work on his fifth studio album.[61]\\nSmith again reprised his role as Agent J with Men in Black 3, which opened on May 25, 2012, his first major starring role in four years.[62][63] In 2022, Smith became the fifth black actor to win the Academy Award for Best Actor behind Sidney Poitier, Denzel Washington, Jamie Foxx, and Forest Whitaker.[106]\\nDiscography\\nFilmography\\nAwards and nominations\\nSmith has received multiple awards throughout his career, including an Academy Award for Best Actor for his role as Richard Williams, the prolific father and coach to championship tennis players Venus and Serena Williams, in the biopic King Richard (2021)\\u2014a role that also won him a Golden Globe Award, BAFTA Award and Screen Actors Guild Award in the same category; he also received a producer nomination for the Academy Award for Best Picture. The AMPAS President David Rubin accepted the resignation in an official statement but said they would continue their investigation.[123] Smith's resignation means he is no longer able to vote on Oscar nominations as a member of the Academy.[124] Commentators have speculated that Smith's resignation from the Academy and other related fallout from the slap would damage his \\\"family brand\\\".[125]\\nOn April 8, 2022, the Academy announced its decision to ban Smith from future Oscars galas and associated events for a period of 10 years.[126] Several film projects that Smith had been involved in were put on hold as a result of the controversy.[127]\"}, {\"url\": \"https://www.imdb.com/name/nm0000226/\", \"content\": \"Will Smith(I) Willard Carroll \\\"Will\\\" Smith II (born September 25, 1968) is an American actor, comedian, producer, rapper, and songwriter. He has enjoyed success in television, film, and music. In April 2007, Newsweek called him \\\"the most powerful actor in Hollywood\\\". Smith has been nominated for five Golden Globe Awards, two Academy Awards, and ...\"}]\n"
     ]
    },
    {
     "name": "stderr",
     "output_type": "stream",
     "text": [
      "Unable to load requested LangChainTracer. To disable this warning, unset the LANGCHAIN_TRACING_V2 environment variables.\n",
      "LangSmithUserError('API key must be provided when using hosted LangSmith API')\n",
      "Unable to load requested LangChainTracer. To disable this warning, unset the LANGCHAIN_TRACING_V2 environment variables.\n",
      "LangSmithUserError('API key must be provided when using hosted LangSmith API')\n"
     ]
    },
    {
     "name": "stdout",
     "output_type": "stream",
     "text": [
      "==================================\u001b[1m Ai Message \u001b[0m==================================\n",
      "\n",
      "Will Smith is an American actor, comedian, producer, rapper, and songwriter. He was born on September 25, 1968. Newsweek called him \"the most powerful actor in Hollywood\" in April 2007. Smith has been nominated for five Golden Globe Awards, two Academy Awards, and two Grammy Awards. His work as a member of DJ Jazzy Jeff & the Fresh Prince made them the first rap act to win a Grammy Award and the first to win an MTV Video Music Award for Best Rap Video. He launched his acting career by starring in the NBC sitcom The Fresh Prince of Bel-Air, which is considered to be a watershed moment for Hip-Hop and Black television. Smith currently holds the record for the most consecutive $100-million-plus hits at the US box office, with eight. He has received multiple awards throughout his career, including an Academy Award for Best Actor for his role as Richard Williams in the biopic King Richard (2021).\n"
     ]
    }
   ],
   "source": [
    "config = {\"configurable\": {\"thread_id\" : \"1\"}}\n",
    "\n",
    "#Call your bot.\n",
    "user_input = \"Hi there! My name is Will.\"\n",
    "\n",
    "# The config is the **second positional argument** to stream() or invoke()!\n",
    "events = graph.stream({\"messages\": [(\"user\", user_input)]}, config, stream_mode = \"values\")\n",
    "\n",
    "for event in events:\n",
    "    event[\"messages\"][-1].pretty_print()"
   ]
  },
  {
   "cell_type": "code",
   "execution_count": 24,
   "id": "301693e6-bad8-42d1-a7e2-8baaeb9149cc",
   "metadata": {},
   "outputs": [
    {
     "name": "stderr",
     "output_type": "stream",
     "text": [
      "Unable to load requested LangChainTracer. To disable this warning, unset the LANGCHAIN_TRACING_V2 environment variables.\n",
      "LangSmithUserError('API key must be provided when using hosted LangSmith API')\n",
      "Unable to load requested LangChainTracer. To disable this warning, unset the LANGCHAIN_TRACING_V2 environment variables.\n",
      "LangSmithUserError('API key must be provided when using hosted LangSmith API')\n",
      "Unable to load requested LangChainTracer. To disable this warning, unset the LANGCHAIN_TRACING_V2 environment variables.\n",
      "LangSmithUserError('API key must be provided when using hosted LangSmith API')\n",
      "Unable to load requested LangChainTracer. To disable this warning, unset the LANGCHAIN_TRACING_V2 environment variables.\n",
      "LangSmithUserError('API key must be provided when using hosted LangSmith API')\n"
     ]
    },
    {
     "name": "stdout",
     "output_type": "stream",
     "text": [
      "================================\u001b[1m Human Message \u001b[0m=================================\n",
      "\n",
      "Remember my name? If yes, what is my name?\n"
     ]
    },
    {
     "name": "stderr",
     "output_type": "stream",
     "text": [
      "Unable to load requested LangChainTracer. To disable this warning, unset the LANGCHAIN_TRACING_V2 environment variables.\n",
      "LangSmithUserError('API key must be provided when using hosted LangSmith API')\n",
      "Unable to load requested LangChainTracer. To disable this warning, unset the LANGCHAIN_TRACING_V2 environment variables.\n",
      "LangSmithUserError('API key must be provided when using hosted LangSmith API')\n"
     ]
    },
    {
     "name": "stdout",
     "output_type": "stream",
     "text": [
      "==================================\u001b[1m Ai Message \u001b[0m==================================\n",
      "\n",
      "Yes, your name is Will. \n",
      "\n",
      "Is there something specific you would like to know or talk about? I'm here to help with any questions you have to the best of my ability.\n"
     ]
    }
   ],
   "source": [
    "user_input = \"Remember my name? If yes, what is my name?\"\n",
    "\n",
    "# The config is the **second positional argument** to stream() or invoke()!\n",
    "events = graph.stream(\n",
    "    {\"messages\": [(\"user\", user_input)]}, config, stream_mode=\"values\"\n",
    ")\n",
    "for event in events:\n",
    "    event[\"messages\"][-1].pretty_print()"
   ]
  },
  {
   "cell_type": "markdown",
   "id": "9ef9edcf-3f83-4014-9139-aee98486d531",
   "metadata": {},
   "source": [
    "***\n",
    "Notice that we aren't using an external list for memory: it's all handled by the checkpointer! You can inspect the full execution in this `LangSmith trace` to see what's going on.\n",
    "\n",
    "Don't believe me? Try this using a different config."
   ]
  },
  {
   "cell_type": "code",
   "execution_count": 25,
   "id": "d64c9421-74bf-4986-ad91-3852941edc88",
   "metadata": {},
   "outputs": [
    {
     "name": "stderr",
     "output_type": "stream",
     "text": [
      "Unable to load requested LangChainTracer. To disable this warning, unset the LANGCHAIN_TRACING_V2 environment variables.\n",
      "LangSmithUserError('API key must be provided when using hosted LangSmith API')\n",
      "Unable to load requested LangChainTracer. To disable this warning, unset the LANGCHAIN_TRACING_V2 environment variables.\n",
      "LangSmithUserError('API key must be provided when using hosted LangSmith API')\n",
      "Unable to load requested LangChainTracer. To disable this warning, unset the LANGCHAIN_TRACING_V2 environment variables.\n",
      "LangSmithUserError('API key must be provided when using hosted LangSmith API')\n",
      "Unable to load requested LangChainTracer. To disable this warning, unset the LANGCHAIN_TRACING_V2 environment variables.\n",
      "LangSmithUserError('API key must be provided when using hosted LangSmith API')\n"
     ]
    },
    {
     "name": "stdout",
     "output_type": "stream",
     "text": [
      "================================\u001b[1m Human Message \u001b[0m=================================\n",
      "\n",
      "Remember my name? If yes, what is my name?\n"
     ]
    },
    {
     "name": "stderr",
     "output_type": "stream",
     "text": [
      "Unable to load requested LangChainTracer. To disable this warning, unset the LANGCHAIN_TRACING_V2 environment variables.\n",
      "LangSmithUserError('API key must be provided when using hosted LangSmith API')\n",
      "Unable to load requested LangChainTracer. To disable this warning, unset the LANGCHAIN_TRACING_V2 environment variables.\n",
      "LangSmithUserError('API key must be provided when using hosted LangSmith API')\n"
     ]
    },
    {
     "name": "stdout",
     "output_type": "stream",
     "text": [
      "==================================\u001b[1m Ai Message \u001b[0m==================================\n",
      "\n",
      "You are Tavily, as we have previously established in our conversation. How can I help you today, Tavily? If you have any questions or need information, I'm here to assist you. I can use the Tavily search tool to help find answers for you.\n"
     ]
    }
   ],
   "source": [
    "# The only difference is we change the `thread_id` here to \"2\" instead of \"1\"\n",
    "events = graph.stream(\n",
    "    {\"messages\": [(\"user\", user_input)]},\n",
    "    {\"configurable\": {\"thread_id\": \"2\"}},\n",
    "    stream_mode=\"values\",\n",
    ")\n",
    "for event in events:\n",
    "    event[\"messages\"][-1].pretty_print()"
   ]
  },
  {
   "cell_type": "markdown",
   "id": "82faac58-92a8-4a90-944b-494875fb96e1",
   "metadata": {},
   "source": [
    "\n",
    "**Notice** that the only change we've made is to modify the `thread_id` in the config. See this call's `LangSmith trace` for comparison.\n",
    "\n",
    "By now, we have made a few checkpoints across two different threads. But what goes into a checkpoint? To inspect a graph's `state` for a given config at any time, call `get_state(config)`."
   ]
  },
  {
   "cell_type": "code",
   "execution_count": 26,
   "id": "d8bd2a2b-f647-4b81-a3ba-97fcbdeb3cf9",
   "metadata": {},
   "outputs": [
    {
     "data": {
      "text/plain": [
       "StateSnapshot(values={'messages': [HumanMessage(content='Hi there! My name is Will.', id='37f9722a-c9e9-449f-8696-127b049a87ff'), AIMessage(content='', additional_kwargs={'tool_calls': [{'id': 'call_grqv', 'function': {'arguments': '{\"query\":\"Who is Will\"}', 'name': 'tavily_search_results_json'}, 'type': 'function'}]}, response_metadata={'token_usage': {'completion_time': 0.1515625, 'completion_tokens': 97, 'prompt_time': 0.067312746, 'prompt_tokens': 1215, 'queue_time': None, 'total_time': 0.218875246, 'total_tokens': 1312}, 'model_name': 'Mixtral-8x7b-32768', 'system_fingerprint': 'fp_c5f20b5bb1', 'finish_reason': 'tool_calls', 'logprobs': None}, id='run-ecb3cc9d-062d-402c-b67d-4c1d3b2994da-0', tool_calls=[{'name': 'tavily_search_results_json', 'args': {'query': 'Who is Will'}, 'id': 'call_grqv', 'type': 'tool_call'}], usage_metadata={'input_tokens': 1215, 'output_tokens': 97, 'total_tokens': 1312}), ToolMessage(content='[{\"url\": \"https://www.biography.com/actors/will-smith\", \"content\": \"To meet the team, visit our About Us page: https://www.biography.com/about/a43602329/about-us\\\\nAcademy Awards\\\\nJodie Foster\\\\nEmma Stone\\\\nMartin Scorsese\\\\nGreta Gerwig\\\\nCillian Murphy\\\\nKate Hudson\\\\nBrendan Fraser\\\\nJamie Lee Curtis\\\\nNicolas Cage\\\\nMichelle Yeoh\\\\nThe 2024 Oscar Nominations in Major Categories\\\\nGet to Know Oscar Nominee His turn as the charismatic boxing great saw Smith put in the performance of his life, training and disciplining himself to extraordinary lengths to do justice to the athleticism \\\\u2014 and ego \\\\u2014 of the titular character. Hancock, Seven Pounds, and Men in Black 3\\\\nSmith then took on the dual role of actor and producer for Hancock (2008), in which he played an alcoholic anti-superhero, and for Seven Pounds (2008), about a man who sets out to change the lives of seven people. Early on, it was reported that Smith had turned down a scholarship to Boston\\'s elite Massachusetts Institute of Technology (MIT), but Smith later dispelled the rumor when he told an interviewer: \\\\\"My mother, who worked for the School Board of Philadelphia, had a friend who was the admissions officer at MIT. After a hiatus, Smith returned to the big screen in 2012 with Men in Black 3, followed by a turn as a military commander in the critically panned M. Night Shyamalan sci-fi flick After Earth, which co-starred Smith\\'s son Jaden.\"}, {\"url\": \"https://en.wikipedia.org/wiki/Will_Smith\", \"content\": \"In 2006, Time named him one of the 100 most influential people in the world;[158] in 2008, Esquire named him one of the 75 most influential people of the 21st century.[159]\\\\nMusic\\\\nHis work as a member of DJ Jazzy Jeff & the Fresh Prince made them the first rap act to win a Grammy Award, as well as the first to win an MTV Video Music Award for Best Rap Video, when the song \\\\\"Parents Just Don\\'t Understand\\\\\" won in the inaugural rap categories at both award show ceremonies.[13][160][161] XXL has referred to him as \\\\\"one of the most important rappers of all time\\\\\".[162] As of 2013, his debut solo album Big Willie Style (1997) is among the best-selling rap albums of all time.[163]\\\\nTelevision\\\\nSmith launched his acting career by starring in the NBC sitcom The Fresh Prince of Bel-Air; the show\\'s success is considered to be a watershed moment for Hip-Hop and Black television,[164][165] with many publications referring to it as one of the \\\\\"Greatest Sitcoms of All Time\\\\\".[166][167] Professor Andrew Horton said, \\\\\"Smith\\'s genre of comedy, popularized on the sitcom Fresh Prince of Bel-Air translated well into commercial box-office appeal. He currently holds the record for the most consecutive $100-million-plus hits at the US box office, with eight.[171] Smith starred as Daryl in the movie Bright (2017), which broke the record at the time for the most-viewed Netflix film ever for its first week,[172] and became the first major Hollywood film to skip theatrical release over streaming platform for simultaneous viewing by more than 100 million people worldwide.[173]\\\\nFor his role as Agent J in Men in Black 3 (2012), Smith earned the highest-paid movie role of all time, when he reportedly earned $100 million for his role in the film; furthermore his roles in the movies King Richard and Bright are also among the highest-paid roles of all time.[174][175] His film Emancipation (2022) was sold to Apple Studios for $120 million in June 2020, which made it the largest film festival acquisition deal in film history.[176] On December 1, 2008, TV Guide reported that Smith was selected as one of America\\'s top ten most fascinating people of 2008 for a Barbara Walters ABC special that aired on December 4, 2008.[57]\\\\n2008\\\\u20132019: Blockbusters and critical disappointments\\\\nIn 2008, Smith was reported to be developing a film entitled The Last Pharaoh, in which he would be starring as Taharqa.[58] Smith later starred in the superhero movie Hancock,[59] which grossed $227,946,274 in the United States and Canada and had a worldwide total of $624,386,746.[60] On August 19, 2011, it was announced that Smith returned to the studio with producer La Mar Edwards to work on his fifth studio album.[61]\\\\nSmith again reprised his role as Agent J with Men in Black 3, which opened on May 25, 2012, his first major starring role in four years.[62][63] In 2022, Smith became the fifth black actor to win the Academy Award for Best Actor behind Sidney Poitier, Denzel Washington, Jamie Foxx, and Forest Whitaker.[106]\\\\nDiscography\\\\nFilmography\\\\nAwards and nominations\\\\nSmith has received multiple awards throughout his career, including an Academy Award for Best Actor for his role as Richard Williams, the prolific father and coach to championship tennis players Venus and Serena Williams, in the biopic King Richard (2021)\\\\u2014a role that also won him a Golden Globe Award, BAFTA Award and Screen Actors Guild Award in the same category; he also received a producer nomination for the Academy Award for Best Picture. The AMPAS President David Rubin accepted the resignation in an official statement but said they would continue their investigation.[123] Smith\\'s resignation means he is no longer able to vote on Oscar nominations as a member of the Academy.[124] Commentators have speculated that Smith\\'s resignation from the Academy and other related fallout from the slap would damage his \\\\\"family brand\\\\\".[125]\\\\nOn April 8, 2022, the Academy announced its decision to ban Smith from future Oscars galas and associated events for a period of 10 years.[126] Several film projects that Smith had been involved in were put on hold as a result of the controversy.[127]\"}, {\"url\": \"https://www.imdb.com/name/nm0000226/\", \"content\": \"Will Smith(I) Willard Carroll \\\\\"Will\\\\\" Smith II (born September 25, 1968) is an American actor, comedian, producer, rapper, and songwriter. He has enjoyed success in television, film, and music. In April 2007, Newsweek called him \\\\\"the most powerful actor in Hollywood\\\\\". Smith has been nominated for five Golden Globe Awards, two Academy Awards, and ...\"}]', name='tavily_search_results_json', id='bd9fbaef-9c9a-43bc-9d76-6ef6aeff2f09', tool_call_id='call_grqv'), AIMessage(content='Will Smith is an American actor, comedian, producer, rapper, and songwriter. He was born on September 25, 1968. Newsweek called him \"the most powerful actor in Hollywood\" in April 2007. Smith has been nominated for five Golden Globe Awards, two Academy Awards, and two Grammy Awards. His work as a member of DJ Jazzy Jeff & the Fresh Prince made them the first rap act to win a Grammy Award and the first to win an MTV Video Music Award for Best Rap Video. He launched his acting career by starring in the NBC sitcom The Fresh Prince of Bel-Air, which is considered to be a watershed moment for Hip-Hop and Black television. Smith currently holds the record for the most consecutive $100-million-plus hits at the US box office, with eight. He has received multiple awards throughout his career, including an Academy Award for Best Actor for his role as Richard Williams in the biopic King Richard (2021).', response_metadata={'token_usage': {'completion_time': 0.346875, 'completion_tokens': 222, 'prompt_time': 0.14683595, 'prompt_tokens': 3035, 'queue_time': None, 'total_time': 0.49371095, 'total_tokens': 3257}, 'model_name': 'Mixtral-8x7b-32768', 'system_fingerprint': 'fp_c5f20b5bb1', 'finish_reason': 'stop', 'logprobs': None}, id='run-e0ed7f19-ee18-4ab2-b6c3-c38acf9de2cf-0', usage_metadata={'input_tokens': 3035, 'output_tokens': 222, 'total_tokens': 3257}), HumanMessage(content='Remember my name?', id='cbb08960-8c20-4696-8fbc-6c0caf566bd7'), AIMessage(content=\"Yes, your name is Will. It's nice to meet you! Is there something specific you would like to know or talk about? I'm here to help with any questions you have to the best of my ability.\", response_metadata={'token_usage': {'completion_time': 0.0734375, 'completion_tokens': 47, 'prompt_time': 0.18865062, 'prompt_tokens': 3270, 'queue_time': None, 'total_time': 0.26208812, 'total_tokens': 3317}, 'model_name': 'Mixtral-8x7b-32768', 'system_fingerprint': 'fp_c5f20b5bb1', 'finish_reason': 'stop', 'logprobs': None}, id='run-795ea843-9998-46fc-8b67-0240c144413b-0', usage_metadata={'input_tokens': 3270, 'output_tokens': 47, 'total_tokens': 3317}), HumanMessage(content='Remember my name? If yes, what is my name?', id='738f7d0e-75e4-4bff-9920-c5bfb9b19ea3'), AIMessage(content=\"Yes, your name is Will. \\n\\nIs there something specific you would like to know or talk about? I'm here to help with any questions you have to the best of my ability.\", response_metadata={'token_usage': {'completion_time': 0.065625, 'completion_tokens': 42, 'prompt_time': 0.161547836, 'prompt_tokens': 3338, 'queue_time': None, 'total_time': 0.227172836, 'total_tokens': 3380}, 'model_name': 'Mixtral-8x7b-32768', 'system_fingerprint': 'fp_c5f20b5bb1', 'finish_reason': 'stop', 'logprobs': None}, id='run-f0b4ed83-17e2-4f97-bf28-bf75b7ce3271-0', usage_metadata={'input_tokens': 3338, 'output_tokens': 42, 'total_tokens': 3380})]}, next=(), config={'configurable': {'thread_id': '1', 'thread_ts': '1ef428cb-2a3c-6e66-8009-a8410e9ae771'}}, metadata={'source': 'loop', 'step': 9, 'writes': {'chatbot': {'messages': [AIMessage(content=\"Yes, your name is Will. \\n\\nIs there something specific you would like to know or talk about? I'm here to help with any questions you have to the best of my ability.\", response_metadata={'token_usage': {'completion_time': 0.065625, 'completion_tokens': 42, 'prompt_time': 0.161547836, 'prompt_tokens': 3338, 'queue_time': None, 'total_time': 0.227172836, 'total_tokens': 3380}, 'model_name': 'Mixtral-8x7b-32768', 'system_fingerprint': 'fp_c5f20b5bb1', 'finish_reason': 'stop', 'logprobs': None}, id='run-f0b4ed83-17e2-4f97-bf28-bf75b7ce3271-0', usage_metadata={'input_tokens': 3338, 'output_tokens': 42, 'total_tokens': 3380})]}}}, created_at='2024-07-15T09:29:13.170830+00:00', parent_config={'configurable': {'thread_id': '1', 'thread_ts': '1ef428cb-2008-6ef1-8008-9c15a13addcd'}})"
      ]
     },
     "execution_count": 26,
     "metadata": {},
     "output_type": "execute_result"
    }
   ],
   "source": [
    "snapshot = graph.get_state(config)\n",
    "snapshot"
   ]
  },
  {
   "cell_type": "markdown",
   "id": "43c76368-2f55-407f-9065-c9facdbf31f8",
   "metadata": {},
   "source": [
    "***\n",
    "\n",
    "The snapshot above contains the current state values, corresponding config, and the next node to process. In our case, the graph has reached an __end__ state, so next is empty."
   ]
  },
  {
   "cell_type": "code",
   "execution_count": null,
   "id": "fed585a9-8326-4501-b5a3-ad45a87b1790",
   "metadata": {},
   "outputs": [],
   "source": []
  }
 ],
 "metadata": {
  "kernelspec": {
   "display_name": "Python 3 (ipykernel)",
   "language": "python",
   "name": "python3"
  },
  "language_info": {
   "codemirror_mode": {
    "name": "ipython",
    "version": 3
   },
   "file_extension": ".py",
   "mimetype": "text/x-python",
   "name": "python",
   "nbconvert_exporter": "python",
   "pygments_lexer": "ipython3",
   "version": "3.9.18"
  }
 },
 "nbformat": 4,
 "nbformat_minor": 5
}
