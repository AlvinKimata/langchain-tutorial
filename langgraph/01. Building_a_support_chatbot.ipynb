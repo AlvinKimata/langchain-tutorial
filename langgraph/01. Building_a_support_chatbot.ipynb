{
 "cells": [
  {
   "cell_type": "markdown",
   "metadata": {
    "id": "uAoHczt6gKrK"
   },
   "source": [
    "### In this comprehensive quick start, we will build a support chatbot in LangGraph that can:\n",
    "\n",
    "* Answer common questions by searching the web\n",
    "\n",
    "* Maintain conversation state across calls\n",
    "\n",
    "* Route complex queries to a human for review\n",
    "\n",
    "* Use custom state to control its behavior\n",
    "\n",
    "* Rewind and explore alternative conversation paths\n",
    "\n",
    "#### We'll start with a basic chatbot and progressively add more sophisticated capabilities, introducing key LangGraph concepts along the way."
   ]
  },
  {
   "cell_type": "code",
   "execution_count": 1,
   "metadata": {
    "colab": {
     "base_uri": "https://localhost:8080/"
    },
    "id": "0EuOF6u2gFH1",
    "outputId": "546acca2-1e2c-4e03-c08f-20bfa54c3491"
   },
   "outputs": [],
   "source": [
    "!pip install -q langgraph langsmith langchain-groq"
   ]
  },
  {
   "cell_type": "code",
   "execution_count": 2,
   "metadata": {
    "id": "6YaZNz3nhDgA"
   },
   "outputs": [],
   "source": [
    "import os\n",
    "from getpass import getpass"
   ]
  },
  {
   "cell_type": "code",
   "execution_count": 3,
   "metadata": {
    "colab": {
     "base_uri": "https://localhost:8080/"
    },
    "id": "rdGsCmEbgtlc",
    "outputId": "fbf10a17-07c7-4b1f-bc78-bfb688bf85c7"
   },
   "outputs": [],
   "source": [
    "def _set_env(var: str):\n",
    "  if not os.environ.get(var):\n",
    "    os.environ[var] = getpass(f\"Enter {var}: \")\n",
    "\n",
    "\n",
    "\n",
    "_set_env(\"GROQ_API_KEY\")"
   ]
  },
  {
   "cell_type": "markdown",
   "metadata": {
    "id": "HxU3ACqPhkIT"
   },
   "source": [
    "_LangSmith makes it a lot easier to see what's going on \"under the hood.\"_"
   ]
  },
  {
   "cell_type": "code",
   "execution_count": 5,
   "metadata": {
    "id": "gDT2dxKmhXUW"
   },
   "outputs": [],
   "source": [
    "os.environ['LANGCHAIN_TRACING_V2'] = \"true\"\n",
    "os.environ[\"LANGCHAIN_PROJECT\"] = \"LangGraph Tutorial\""
   ]
  },
  {
   "cell_type": "markdown",
   "metadata": {
    "id": "FozHejbth0-m"
   },
   "source": [
    "## Part 1: Build a Basic Chatbot\n",
    "\n",
    "\n",
    "We'll first create a simple chatbot using LangGraph. This chatbot will respond directly to user messages. Though simple, it will illustrate the core concepts of building with LangGraph. By the end of this section, you will have a built rudimentary chatbot."
   ]
  },
  {
   "cell_type": "markdown",
   "metadata": {
    "id": "dsmTLXnplAhZ"
   },
   "source": [
    "#### Start by creating a `StateGraph`. A `StateGraph` object defines the structure of our chatbot as a \"state machine\". We'll add `nodes` to represent the llm and functions our chatbot can call and `edges` to specify how the bot should transition between these functions."
   ]
  },
  {
   "cell_type": "code",
   "execution_count": 6,
   "metadata": {
    "id": "OvCstwSXhx6k"
   },
   "outputs": [],
   "source": [
    "from typing import Annotated\n",
    "from typing_extensions import TypedDict\n",
    "from langgraph.graph import StateGraph, START, END\n",
    "from langgraph.graph.message import add_messages"
   ]
  },
  {
   "cell_type": "code",
   "execution_count": 7,
   "metadata": {
    "id": "_OOtJsWtiBa4"
   },
   "outputs": [],
   "source": [
    "class State(TypedDict):\n",
    "  messages: Annotated[list, add_messages]\n",
    "\n",
    "graph_builder = StateGraph(State)"
   ]
  },
  {
   "cell_type": "markdown",
   "metadata": {
    "id": "8JQ3tP4UjBwQ"
   },
   "source": [
    "\n",
    "**Notice** that we've defined our State as a TypedDict with a single key: `messages`. The `messages` key is annotated with the `add_messages` function, which tells LangGraph to append new messages to the existing list, rather than overwriting it.\n",
    "\n",
    "So now our graph knows two things:\n",
    "\n",
    "1. Every node we define will receive the current State as input and return a value that updates that state.\n",
    "\n",
    "2. `messages` will be appended to the current list, rather than directly overwritten. This is communicated via the prebuilt add_messages function in the Annotated syntax.\n",
    "\n",
    "\n",
    "Next, add a `chatbot` node. Nodes represent units of work. They are typically regular python functions."
   ]
  },
  {
   "cell_type": "code",
   "execution_count": 8,
   "metadata": {
    "colab": {
     "base_uri": "https://localhost:8080/"
    },
    "id": "lyxx61BUi9O9",
    "outputId": "405d9870-5ed6-4b69-a6a0-204bbad1d9cc"
   },
   "outputs": [
    {
     "name": "stdout",
     "output_type": "stream",
     "text": [
      "{'chatbot': NodeSpec(runnable=chatbot(recurse=True), metadata=None)}\n"
     ]
    }
   ],
   "source": [
    "# from langchain_openai import OpenAI\n",
    "\n",
    "# llm = OpenAI(model = \"Mixtral-8x7b-32768\", base_url=\"https://api.groq.com/openai/v1\")\n",
    "\n",
    "from langchain_groq import ChatGroq\n",
    "llm = ChatGroq(\n",
    "    temperature=0,\n",
    "    model=\"Mixtral-8x7b-32768\")\n",
    "\n",
    "def chatbot(state: State):\n",
    "  '''The first argument is the unique node name.\n",
    "  The second argument is the function or object that will be called whenever the node is used.'''\n",
    "  return {\"messages\": [llm.invoke(state[\"messages\"])]}\n",
    "\n",
    "\n",
    "graph_builder.add_node(\"chatbot\", chatbot)\n",
    "print(graph_builder.nodes)"
   ]
  },
  {
   "cell_type": "markdown",
   "metadata": {
    "id": "DIgC1ONnlZFt"
   },
   "source": [
    "The `add_messages` function in our `State` will append the llm's response messages to whatever messages are already in the state.\n",
    "\n",
    "Next, add an entry point. This tells our graph **where to start its work** each time we run it."
   ]
  },
  {
   "cell_type": "code",
   "execution_count": 9,
   "metadata": {
    "id": "7zNUlCzQkqys"
   },
   "outputs": [],
   "source": [
    "graph_builder.add_edge(START, \"chatbot\")"
   ]
  },
  {
   "cell_type": "markdown",
   "metadata": {
    "id": "LrgEZiQWlqVB"
   },
   "source": [
    "\n",
    "Similarly, set a `finish` point. This instructs the graph \"**any time this node is run, you can exit**.\""
   ]
  },
  {
   "cell_type": "code",
   "execution_count": 10,
   "metadata": {
    "id": "T1tcUGUUlnqq"
   },
   "outputs": [],
   "source": [
    "graph_builder.add_edge(\"chatbot\", END)"
   ]
  },
  {
   "cell_type": "markdown",
   "metadata": {
    "id": "qQMh_bMpl4iZ"
   },
   "source": [
    "\n",
    "Finally, we'll want to be able to run our graph. To do so, call `compile()` on the graph builder. This creates a `CompiledGraph` we can use invoke on our state."
   ]
  },
  {
   "cell_type": "code",
   "execution_count": 11,
   "metadata": {
    "id": "u6klygS0l2xO"
   },
   "outputs": [],
   "source": [
    "graph = graph_builder.compile()"
   ]
  },
  {
   "cell_type": "markdown",
   "metadata": {
    "id": "2sE4fGLamC_p"
   },
   "source": [
    "\n",
    "You can visualize the graph using the `get_graph` method and one of the `draw` methods, like `draw_ascii` or `draw_png`.\n",
    "\n",
    "The draw methods each require additional dependencies."
   ]
  },
  {
   "cell_type": "code",
   "execution_count": 12,
   "metadata": {
    "colab": {
     "base_uri": "https://localhost:8080/",
     "height": 236
    },
    "id": "JZ8p-Mhll-2J",
    "outputId": "b0b6f698-4f78-4eb7-f94d-53e49e9609c4"
   },
   "outputs": [
    {
     "data": {
      "image/jpeg": "[encoded data removed]",
      "text/plain": [
       "<IPython.core.display.Image object>"
      ]
     },
     "metadata": {},
     "output_type": "display_data"
    }
   ],
   "source": [
    "from IPython.display import Image, display\n",
    "\n",
    "try:\n",
    "  display(Image(graph.get_graph().draw_mermaid_png()))\n",
    "except Exception:\n",
    "  pass"
   ]
  },
  {
   "cell_type": "markdown",
   "metadata": {
    "id": "HKn9T6MbmXRL"
   },
   "source": [
    "\n",
    "Now let's run the chatbot!\n",
    "\n",
    "**Tip**: You can exit the chat loop at any time by typing \"quit\", \"exit\", or \"q\"."
   ]
  },
  {
   "cell_type": "code",
   "execution_count": 16,
   "metadata": {
    "colab": {
     "base_uri": "https://localhost:8080/",
     "height": 671
    },
    "id": "G9DkHRVqmUfS",
    "outputId": "66d36f6d-9596-4f23-8694-4fa116607e8d",
    "scrolled": true
   },
   "outputs": [
    {
     "name": "stdin",
     "output_type": "stream",
     "text": [
      "You:  hi\n"
     ]
    },
    {
     "name": "stderr",
     "output_type": "stream",
     "text": [
      "Unable to load requested LangChainTracer. To disable this warning, unset the LANGCHAIN_TRACING_V2 environment variables.\n",
      "LangSmithUserError('API key must be provided when using hosted LangSmith API')\n",
      "Unable to load requested LangChainTracer. To disable this warning, unset the LANGCHAIN_TRACING_V2 environment variables.\n",
      "LangSmithUserError('API key must be provided when using hosted LangSmith API')\n",
      "Unable to load requested LangChainTracer. To disable this warning, unset the LANGCHAIN_TRACING_V2 environment variables.\n",
      "LangSmithUserError('API key must be provided when using hosted LangSmith API')\n",
      "Unable to load requested LangChainTracer. To disable this warning, unset the LANGCHAIN_TRACING_V2 environment variables.\n",
      "LangSmithUserError('API key must be provided when using hosted LangSmith API')\n",
      "Unable to load requested LangChainTracer. To disable this warning, unset the LANGCHAIN_TRACING_V2 environment variables.\n",
      "LangSmithUserError('API key must be provided when using hosted LangSmith API')\n"
     ]
    },
    {
     "name": "stdout",
     "output_type": "stream",
     "text": [
      "Assistant: [AIMessage(content=\"Hello! It's nice to meet you. Is there something specific you would like to talk about or ask me? I'm here to help with any questions you might have about writing, grammar, or language in general. Just let me know how I can assist you.\", response_metadata={'token_usage': {'completion_time': 0.093688378, 'completion_tokens': 58, 'prompt_time': 0.001885808, 'prompt_tokens': 11, 'queue_time': None, 'total_time': 0.095574186, 'total_tokens': 69}, 'model_name': 'Mixtral-8x7b-32768', 'system_fingerprint': 'fp_c5f20b5bb1', 'finish_reason': 'stop', 'logprobs': None}, id='run-422bf2fa-3318-4853-8941-8fbaf05191c8-0', usage_metadata={'input_tokens': 11, 'output_tokens': 58, 'total_tokens': 69})]\n"
     ]
    },
    {
     "name": "stdin",
     "output_type": "stream",
     "text": [
      "You:  what is langsmith?\n"
     ]
    },
    {
     "name": "stderr",
     "output_type": "stream",
     "text": [
      "Unable to load requested LangChainTracer. To disable this warning, unset the LANGCHAIN_TRACING_V2 environment variables.\n",
      "LangSmithUserError('API key must be provided when using hosted LangSmith API')\n",
      "Unable to load requested LangChainTracer. To disable this warning, unset the LANGCHAIN_TRACING_V2 environment variables.\n",
      "LangSmithUserError('API key must be provided when using hosted LangSmith API')\n",
      "Unable to load requested LangChainTracer. To disable this warning, unset the LANGCHAIN_TRACING_V2 environment variables.\n",
      "LangSmithUserError('API key must be provided when using hosted LangSmith API')\n",
      "Unable to load requested LangChainTracer. To disable this warning, unset the LANGCHAIN_TRACING_V2 environment variables.\n",
      "LangSmithUserError('API key must be provided when using hosted LangSmith API')\n",
      "Unable to load requested LangChainTracer. To disable this warning, unset the LANGCHAIN_TRACING_V2 environment variables.\n",
      "LangSmithUserError('API key must be provided when using hosted LangSmith API')\n"
     ]
    },
    {
     "name": "stdout",
     "output_type": "stream",
     "text": [
      "Assistant: [AIMessage(content='I\\'m not aware of a specific term or concept called \"langsmith.\" It\\'s possible that there might be a typo or misunderstanding in the term. If you\\'re looking for information about language development, linguistics, or language-related professions, I\\'d be happy to help with those topics. Could you please provide more context or clarify what you\\'re looking for?', response_metadata={'token_usage': {'completion_time': 0.132821313, 'completion_tokens': 83, 'prompt_time': 0.002031467, 'prompt_tokens': 15, 'queue_time': None, 'total_time': 0.13485278, 'total_tokens': 98}, 'model_name': 'Mixtral-8x7b-32768', 'system_fingerprint': 'fp_c5f20b5bb1', 'finish_reason': 'stop', 'logprobs': None}, id='run-85200abf-29ae-446b-9d66-8be5d024f585-0', usage_metadata={'input_tokens': 15, 'output_tokens': 83, 'total_tokens': 98})]\n"
     ]
    },
    {
     "name": "stdin",
     "output_type": "stream",
     "text": [
      "You:  q\n"
     ]
    }
   ],
   "source": [
    "# while True:\n",
    "#   user_input = input(\"You: \")\n",
    "#   if user_input.lower() in [\"quit\", \"exit\", \"q\"]:\n",
    "#     break\n",
    "#   for event in graph.stream({\"messages\": {\"role\": \"user\", \"content\": user_input}}):\n",
    "#     for value in event.values():\n",
    "#       print(\"Assistant:\", value[\"messages\"[-1].content])\n",
    "\n",
    "while True:\n",
    "  user_input = input(\"You: \")\n",
    "  if user_input.lower() in [\"quit\", \"exit\", \"q\"]:\n",
    "    break\n",
    "  for event in graph.stream({\"messages\": [{\"role\": \"user\", \"content\": user_input}]}):\n",
    "    for value in event.values():\n",
    "      print(\"Assistant:\", value[\"messages\"])"
   ]
  },
  {
   "cell_type": "code",
   "execution_count": null,
   "metadata": {
    "id": "oZnsv1nImw-F"
   },
   "outputs": [],
   "source": []
  }
 ],
 "metadata": {
  "colab": {
   "provenance": []
  },
  "kernelspec": {
   "display_name": "Python 3 (ipykernel)",
   "language": "python",
   "name": "python3"
  },
  "language_info": {
   "codemirror_mode": {
    "name": "ipython",
    "version": 3
   },
   "file_extension": ".py",
   "mimetype": "text/x-python",
   "name": "python",
   "nbconvert_exporter": "python",
   "pygments_lexer": "ipython3",
   "version": "3.9.18"
  }
 },
 "nbformat": 4,
 "nbformat_minor": 4
}
